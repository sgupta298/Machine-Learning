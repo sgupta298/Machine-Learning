{
 "cells": [
  {
   "cell_type": "code",
   "execution_count": 29,
   "metadata": {},
   "outputs": [
    {
     "name": "stdout",
     "output_type": "stream",
     "text": [
      "[1]\n"
     ]
    }
   ],
   "source": [
    "from sklearn import datasets\n",
    "from sklearn import tree\n",
    "import numpy\n",
    "from sklearn.datasets import load_iris\n",
    "iris=load_iris()\n",
    "train_data=iris.data\n",
    "train_target=iris.target\n",
    "clf=tree.DecisionTreeClassifier()\n",
    "trained=clf.fit(train_data,train_target)\n",
    "pridected=trained.predict([[5.0,2.9,4.3,0.8]])\n",
    "print(pridected)"
   ]
  }
 ],
 "metadata": {
  "kernelspec": {
   "display_name": "Python 3",
   "language": "python",
   "name": "python3"
  },
  "language_info": {
   "codemirror_mode": {
    "name": "ipython",
    "version": 3
   },
   "file_extension": ".py",
   "mimetype": "text/x-python",
   "name": "python",
   "nbconvert_exporter": "python",
   "pygments_lexer": "ipython3",
   "version": "3.6.3"
  }
 },
 "nbformat": 4,
 "nbformat_minor": 2
}
