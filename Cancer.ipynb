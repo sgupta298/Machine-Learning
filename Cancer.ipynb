{
 "cells": [
  {
   "cell_type": "code",
   "execution_count": 38,
   "metadata": {},
   "outputs": [
    {
     "name": "stdout",
     "output_type": "stream",
     "text": [
      "[0 1 0 1 1 0 1 1 1 0 0 0 1 0 1 0 1 0 0 1 0 0 1 1 1 0 1 1 0 1 1 1 0 1 1 1 1\n",
      " 1 0 0 1 0 1 1 0 1 1 1 1 1 1 0 1 1 1 1 0 0 0 1 1 1 0 1 0 1 0 1 1 1 1 1 0 0\n",
      " 1 1 1 1 1 1 0 1 0 1 1 0 0 0 0 1 1 1 1 1 0 1 0 1 0 0 1 1 1 1 0 1 1 0 0 1 1\n",
      " 0 0 1]\n",
      "0.938596491228\n"
     ]
    }
   ],
   "source": [
    "from sklearn import datasets\n",
    "from sklearn import tree\n",
    "import numpy\n",
    "from sklearn.model_selection import train_test_split\n",
    "from sklearn.datasets import load_breast_cancer\n",
    "from sklearn.metrics import accuracy_score\n",
    "cancer=load_breast_cancer()\n",
    "train_cancer,test_cancer,train_target,test_target=train_test_split(cancer.data,cancer.target,test_size=0.2)\n",
    "clf=tree.DecisionTreeClassifier()\n",
    "trained=clf.fit(train_cancer,train_target)\n",
    "output=trained.predict(test_cancer)\n",
    "print(output)\n",
    "print(accuracy_score(test_target,output))\n",
    "tree.export_graphviz(clf, out_file=\"tree.dot\", max_depth=None, feature_names=cancer.feature_names, class_names=cancer.target_names, label='all', filled=True, leaves_parallel=False, impurity=True, node_ids=False, proportion=False, rotate=False, rounded=True, special_characters=False, precision=3)"
   ]
  }
 ],
 "metadata": {
  "kernelspec": {
   "display_name": "Python 3",
   "language": "python",
   "name": "python3"
  },
  "language_info": {
   "codemirror_mode": {
    "name": "ipython",
    "version": 3
   },
   "file_extension": ".py",
   "mimetype": "text/x-python",
   "name": "python",
   "nbconvert_exporter": "python",
   "pygments_lexer": "ipython3",
   "version": "3.6.3"
  }
 },
 "nbformat": 4,
 "nbformat_minor": 2
}
