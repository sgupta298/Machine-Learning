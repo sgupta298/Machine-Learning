{
 "cells": [
  {
   "cell_type": "code",
   "execution_count": 15,
   "metadata": {},
   "outputs": [
    {
     "name": "stdout",
     "output_type": "stream",
     "text": [
      "enter weight of fruit130\n",
      "enter 0 for smooth and 1 for bumpy texture0\n",
      "['apple']\n"
     ]
    }
   ],
   "source": [
    "from sklearn import tree\n",
    "data=[[100,0],[130,0],[135,1],[150,1]]\n",
    "output=[\"apple\",\"apple\",\"orange\",\"orange\"]\n",
    "x=input(\"enter weight of fruit\")\n",
    "y=input(\"enter 0 for smooth and 1 for bumpy texture\")\n",
    "algo=tree.DecisionTreeClassifier()\n",
    "trained_algo=algo.fit(data,output)\n",
    "predict=trained_algo.predict([[int(x),int(y)]])\n",
    "print(predict)"
   ]
  },
  {
   "cell_type": "code",
   "execution_count": 12,
   "metadata": {},
   "outputs": [
    {
     "name": "stdout",
     "output_type": "stream",
     "text": [
      " Volume in drive C has no label.\n",
      " Volume Serial Number is C088-773D\n",
      "\n",
      " Directory of C:\\Users\\Sanjay\\Desktop\\ML\n",
      "\n",
      "13-06-2018  11:03 PM    <DIR>          .\n",
      "13-06-2018  11:03 PM    <DIR>          ..\n",
      "13-06-2018  08:51 PM    <DIR>          .ipynb_checkpoints\n",
      "13-06-2018  11:03 PM                 5 file.txt\n",
      "12-06-2018  09:26 PM            13,586 matplotlib.ipynb\n",
      "13-06-2018  11:02 PM             1,962 scikit.ipynb\n",
      "               3 File(s)         15,553 bytes\n",
      "               3 Dir(s)  70,049,611,776 bytes free\n"
     ]
    }
   ],
   "source": [
    "# type(predict[0])\n",
    "# fo=open(\"file.txt\",\"w\")\n",
    "# fo.write(predict[0])\n",
    "# fo.close()\n",
    "!dir\n"
   ]
  }
 ],
 "metadata": {
  "kernelspec": {
   "display_name": "Python 3",
   "language": "python",
   "name": "python3"
  },
  "language_info": {
   "codemirror_mode": {
    "name": "ipython",
    "version": 3
   },
   "file_extension": ".py",
   "mimetype": "text/x-python",
   "name": "python",
   "nbconvert_exporter": "python",
   "pygments_lexer": "ipython3",
   "version": "3.6.3"
  }
 },
 "nbformat": 4,
 "nbformat_minor": 2
}
