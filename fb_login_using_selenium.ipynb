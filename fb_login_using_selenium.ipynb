{
 "cells": [
  {
   "cell_type": "code",
   "execution_count": 21,
   "metadata": {},
   "outputs": [],
   "source": [
    "import selenium\n",
    "from selenium import webdriver\n",
    "from selenium.webdriver.common.keys import Keys\n",
    "wd =webdriver.Chrome()\n",
    "wd.get(\"http://fb.com\")\n",
    "username = wd.find_element_by_id(\"email\")\n",
    "password = wd.find_element_by_id(\"pass\")\n",
    "\n",
    "username.send_keys(\"your username\")\n",
    "password.send_keys(\"your password\")\n",
    "\n",
    "sub=wd.find_element_by_id(\"loginbutton\")\n",
    "sub.submit()"
   ]
  }
 ],
 "metadata": {
  "kernelspec": {
   "display_name": "Python 3",
   "language": "python",
   "name": "python3"
  },
  "language_info": {
   "codemirror_mode": {
    "name": "ipython",
    "version": 3
   },
   "file_extension": ".py",
   "mimetype": "text/x-python",
   "name": "python",
   "nbconvert_exporter": "python",
   "pygments_lexer": "ipython3",
   "version": "3.6.3"
  }
 },
 "nbformat": 4,
 "nbformat_minor": 2
}
